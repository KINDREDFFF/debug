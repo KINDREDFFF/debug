{
 "cells": [
  {
   "cell_type": "markdown",
   "id": "c08e2188",
   "metadata": {},
   "source": [
    "## 2.2.1 读取数据集"
   ]
  },
  {
   "cell_type": "code",
   "execution_count": 1,
   "id": "4b955c48",
   "metadata": {},
   "outputs": [],
   "source": [
    "import os\n",
    "\n",
    "os.makedirs(os.path.join('..', 'data'), exist_ok=True)\n",
    "data_file = os.path.join('..', 'data', 'house_tiny.csv')\n",
    "with open(data_file, 'w') as f:\n",
    "    f.write('NumRooms, Alley, Price\\n')\n",
    "    f.write('NA, Pave, 127500\\n')\n",
    "    f.write('2, NA, 106000\\n')\n",
    "    f.write('4, NA, 178100\\n')\n",
    "    f.write('NA, NA, 140000\\n')\n"
   ]
  }
 ],
 "metadata": {
  "kernelspec": {
   "display_name": "Python 3 (ipykernel)",
   "language": "python",
   "name": "python3"
  },
  "language_info": {
   "codemirror_mode": {
    "name": "ipython",
    "version": 3
   },
   "file_extension": ".py",
   "mimetype": "text/x-python",
   "name": "python",
   "nbconvert_exporter": "python",
   "pygments_lexer": "ipython3",
   "version": "3.9.13"
  }
 },
 "nbformat": 4,
 "nbformat_minor": 5
}
