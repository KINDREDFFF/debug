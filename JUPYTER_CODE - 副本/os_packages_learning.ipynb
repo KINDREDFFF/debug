{
 "cells": [
  {
   "cell_type": "code",
   "execution_count": 13,
   "id": "d42929cd",
   "metadata": {},
   "outputs": [
    {
     "data": {
      "text/plain": [
       "'F:\\\\JUPYTER_CODE'"
      ]
     },
     "execution_count": 13,
     "metadata": {},
     "output_type": "execute_result"
    }
   ],
   "source": [
    "import os\n",
    "\n",
    "current_dir = os.getcwd()   #获得当前工作目录路径\n",
    "current_dir"
   ]
  },
  {
   "cell_type": "code",
   "execution_count": 14,
   "id": "ce5fd5a5",
   "metadata": {},
   "outputs": [
    {
     "data": {
      "text/plain": [
       "['.ipynb_checkpoints',\n",
       " '2.1_data_operation.ipynb',\n",
       " '2.2_data_preprocessing.ipynb',\n",
       " 'd2l-zh',\n",
       " 'deep learning.ipynb',\n",
       " 'new_dir',\n",
       " 'os_packages_learning.ipynb']"
      ]
     },
     "execution_count": 14,
     "metadata": {},
     "output_type": "execute_result"
    }
   ],
   "source": [
    "files = os.listdir('.')   #列出当前工作目录下的所有文件和子目录   要求输入路径 ('.')代表当前工作路径  ('..')代表上一级工作路径\n",
    "files"
   ]
  },
  {
   "cell_type": "code",
   "execution_count": 17,
   "id": "a98e897f",
   "metadata": {},
   "outputs": [
    {
     "name": "stdout",
     "output_type": "stream",
     "text": [
      "F:\\JUPYTER_CODE\\new_dir\n"
     ]
    }
   ],
   "source": [
    "dir_path = os.path.join(os.getcwd(), 'new_dir')  #使用os.path.join可以连接两个路径\n",
    "print(dir_path)\n",
    "os.mkdir(dir_path)                     #使用os.mkdir创建目标文件\n"
   ]
  },
  {
   "cell_type": "code",
   "execution_count": null,
   "id": "4bd1fefa",
   "metadata": {},
   "outputs": [],
   "source": []
  }
 ],
 "metadata": {
  "kernelspec": {
   "display_name": "Python 3 (ipykernel)",
   "language": "python",
   "name": "python3"
  },
  "language_info": {
   "codemirror_mode": {
    "name": "ipython",
    "version": 3
   },
   "file_extension": ".py",
   "mimetype": "text/x-python",
   "name": "python",
   "nbconvert_exporter": "python",
   "pygments_lexer": "ipython3",
   "version": "3.9.13"
  }
 },
 "nbformat": 4,
 "nbformat_minor": 5
}
